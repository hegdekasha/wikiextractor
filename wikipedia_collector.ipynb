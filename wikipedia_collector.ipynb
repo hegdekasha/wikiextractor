{
  "cells": [
    {
      "cell_type": "code",
      "source": [
        "from google.colab import drive\n",
        "drive.mount('/content/drive')"
      ],
      "metadata": {
        "colab": {
          "base_uri": "https://localhost:8080/"
        },
        "id": "HNNozYebfkZz",
        "outputId": "7575bba3-acd7-4965-eed5-3fd3fd832547"
      },
      "execution_count": 7,
      "outputs": [
        {
          "output_type": "stream",
          "name": "stdout",
          "text": [
            "Mounted at /content/drive\n"
          ]
        }
      ]
    },
    {
      "cell_type": "code",
      "execution_count": 8,
      "metadata": {
        "_cell_guid": "b1076dfc-b9ad-4769-8c92-a6c4dae69d19",
        "_uuid": "8f2839f25d086af736a60e9eeb907d3b93b6e0e5",
        "colab": {
          "base_uri": "https://localhost:8080/"
        },
        "id": "bOdq4FA1I3UH",
        "outputId": "766fd1f8-734b-44ff-b5a4-a5d9ab5af4eb"
      },
      "outputs": [
        {
          "output_type": "stream",
          "name": "stdout",
          "text": [
            "Looking in indexes: https://pypi.org/simple, https://us-python.pkg.dev/colab-wheels/public/simple/\n",
            "Requirement already satisfied: wiki-dump-reader in /usr/local/lib/python3.7/dist-packages (0.0.4)\n"
          ]
        }
      ],
      "source": [
        "!pip install wiki-dump-reader\n",
        "\n"
      ]
    },
    {
      "cell_type": "code",
      "execution_count": 9,
      "metadata": {
        "colab": {
          "base_uri": "https://localhost:8080/"
        },
        "id": "Ye29nP-II3UL",
        "outputId": "06078a88-30a1-4f9e-9330-9a537197d210"
      },
      "outputs": [
        {
          "output_type": "stream",
          "name": "stdout",
          "text": [
            "--2022-08-11 06:02:04--  https://dumps.wikimedia.org/sawiki/latest/sawiki-latest-pages-articles.xml.bz2\n",
            "Resolving dumps.wikimedia.org (dumps.wikimedia.org)... 208.80.154.7, 2620:0:861:1:208:80:154:7\n",
            "Connecting to dumps.wikimedia.org (dumps.wikimedia.org)|208.80.154.7|:443... connected.\n",
            "HTTP request sent, awaiting response... 200 OK\n",
            "Length: 16149848 (15M) [application/octet-stream]\n",
            "Saving to: ‘sawiki-latest-pages-articles.xml.bz2’\n",
            "\n",
            "sawiki-latest-pages 100%[===================>]  15.40M  4.98MB/s    in 3.1s    \n",
            "\n",
            "2022-08-11 06:02:07 (4.98 MB/s) - ‘sawiki-latest-pages-articles.xml.bz2’ saved [16149848/16149848]\n",
            "\n"
          ]
        }
      ],
      "source": [
        "!wget https://dumps.wikimedia.org/sawiki/latest/sawiki-latest-pages-articles.xml.bz2\n"
      ]
    },
    {
      "cell_type": "code",
      "execution_count": 10,
      "metadata": {
        "id": "SAJ4XylnI3UL",
        "colab": {
          "base_uri": "https://localhost:8080/"
        },
        "outputId": "096910dc-2354-42f9-8859-02ccd31f1f56"
      },
      "outputs": [
        {
          "output_type": "stream",
          "name": "stdout",
          "text": [
            "bunzip2: Output file ./sawiki-latest-pages-articles.xml already exists.\n"
          ]
        }
      ],
      "source": [
        "!bunzip2 \"./sawiki-latest-pages-articles.xml.bz2\""
      ]
    },
    {
      "cell_type": "code",
      "execution_count": 11,
      "metadata": {
        "id": "QH3HQ-ovI3UM"
      },
      "outputs": [],
      "source": [
        "from wiki_dump_reader import Cleaner, iterate\n",
        "\n",
        "cleaner = Cleaner()\n",
        "fulltxt=[]\n",
        "for title, text in iterate('./sawiki-latest-pages-articles.xml'):\n",
        "    text = cleaner.clean_text(text)\n",
        "    cleaned_text, links = cleaner.build_links(text)\n",
        "    fulltxt.append(cleaned_text)"
      ]
    },
    {
      "cell_type": "code",
      "execution_count": 12,
      "metadata": {
        "id": "CGbYWxgSI3UM",
        "outputId": "ee971eb9-b2f8-4eec-e8fa-b3c48a62ad88",
        "colab": {
          "base_uri": "https://localhost:8080/"
        }
      },
      "outputs": [
        {
          "output_type": "execute_result",
          "data": {
            "text/plain": [
              "22846"
            ]
          },
          "metadata": {},
          "execution_count": 12
        }
      ],
      "source": [
        "len(fulltxt)"
      ]
    },
    {
      "cell_type": "code",
      "execution_count": 14,
      "metadata": {
        "id": "sarvi-pvI3UN"
      },
      "outputs": [],
      "source": [
        "with open(\"/content/drive/MyDrive/sawiki.txt\", \"w\") as output:\n",
        "    output.write(str(fulltxt))"
      ]
    },
    {
      "cell_type": "code",
      "source": [
        ""
      ],
      "metadata": {
        "id": "cmgARtTefcQA"
      },
      "execution_count": null,
      "outputs": []
    },
    {
      "cell_type": "code",
      "execution_count": null,
      "metadata": {
        "id": "85Y87KepI3UN"
      },
      "outputs": [],
      "source": [
        ""
      ]
    }
  ],
  "metadata": {
    "kernelspec": {
      "display_name": "Python 3",
      "language": "python",
      "name": "python3"
    },
    "language_info": {
      "codemirror_mode": {
        "name": "ipython",
        "version": 3
      },
      "file_extension": ".py",
      "mimetype": "text/x-python",
      "name": "python",
      "nbconvert_exporter": "python",
      "pygments_lexer": "ipython3",
      "version": "3.8.10"
    },
    "colab": {
      "name": "wikipedia-collector.ipynb",
      "provenance": []
    }
  },
  "nbformat": 4,
  "nbformat_minor": 0
}